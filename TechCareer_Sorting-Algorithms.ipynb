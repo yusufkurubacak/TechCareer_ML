{
 "cells": [
  {
   "cell_type": "markdown",
   "id": "8935bd88-eb4c-42cd-9922-564430109ed5",
   "metadata": {},
   "source": [
    "# SIRALAMA ALGORİTMALARI ÖRNEKLER"
   ]
  },
  {
   "cell_type": "code",
   "execution_count": 3,
   "id": "7dcccb53-f753-4abe-a484-8325dee981fe",
   "metadata": {},
   "outputs": [],
   "source": [
    "import numpy as np\n",
    "import pandas as pd"
   ]
  },
  {
   "cell_type": "code",
   "execution_count": 4,
   "id": "54293f3b-7ee5-40c5-bb58-9810867dff86",
   "metadata": {},
   "outputs": [],
   "source": [
    "import random"
   ]
  },
  {
   "cell_type": "code",
   "execution_count": 33,
   "id": "f8e2f1f7-0335-413d-8866-a37e084707c5",
   "metadata": {},
   "outputs": [],
   "source": [
    "veri = [random.randint(1, 100) for _ in range(10)]"
   ]
  },
  {
   "cell_type": "code",
   "execution_count": 34,
   "id": "e81a14ce-7278-433f-8582-b810767b2ef9",
   "metadata": {},
   "outputs": [
    {
     "name": "stdout",
     "output_type": "stream",
     "text": [
      "Orijinal veri seti:\n",
      "[68, 63, 11, 13, 46, 93, 77, 40, 69, 37]\n"
     ]
    }
   ],
   "source": [
    "print(\"Orijinal veri seti:\")\n",
    "print(veri)"
   ]
  },
  {
   "cell_type": "markdown",
   "id": "cdb3f5dc-ea00-460c-a153-6ddead5181c6",
   "metadata": {},
   "source": [
    "## Bubble Sort"
   ]
  },
  {
   "cell_type": "code",
   "execution_count": 25,
   "id": "4482deaf-1a10-40f9-9c2c-9e1b519b972e",
   "metadata": {},
   "outputs": [],
   "source": [
    "def BubbleSort(arr):\n",
    "    for i in range(0, len(arr) - 1):\n",
    "        for j in range(len(arr) - 1):\n",
    "            if arr[j] > arr[j + 1]:\n",
    "                arr[j], arr[j + 1] = arr[j + 1], arr[j]\n",
    "    return arr"
   ]
  },
  {
   "cell_type": "code",
   "execution_count": 26,
   "id": "784cefcb-4abf-4000-9c4a-c5ec61d8ed23",
   "metadata": {},
   "outputs": [
    {
     "data": {
      "text/plain": [
       "[13, 25, 27, 48, 53, 65, 76, 88, 96, 99]"
      ]
     },
     "execution_count": 26,
     "metadata": {},
     "output_type": "execute_result"
    }
   ],
   "source": [
    "BubbleSort(veri)"
   ]
  },
  {
   "cell_type": "markdown",
   "id": "30c69392-1b95-4fba-a8d1-82aed6f58290",
   "metadata": {},
   "source": [
    "## Selection Sort"
   ]
  },
  {
   "cell_type": "code",
   "execution_count": 35,
   "id": "60b8e8cd-4f22-40eb-8579-eeff3ccd9643",
   "metadata": {},
   "outputs": [],
   "source": [
    "def SelectionSort(arr):\n",
    "    length = len(arr)\n",
    "    for i in range(length - 1):\n",
    "        minIndex = i\n",
    "        for j in range(i + 1, length):\n",
    "            if arr[j] < arr[minIndex]:\n",
    "                minIndex = j\n",
    "        arr[i], arr[minIndex] = arr[minIndex], arr[i]\n",
    "    return arr"
   ]
  },
  {
   "cell_type": "code",
   "execution_count": 36,
   "id": "6fc728c1-d171-4c01-8dd5-cea97cc3c30b",
   "metadata": {},
   "outputs": [
    {
     "data": {
      "text/plain": [
       "[1, 2, 15, 17, 22, 35, 41, 58, 61, 86]"
      ]
     },
     "execution_count": 36,
     "metadata": {},
     "output_type": "execute_result"
    }
   ],
   "source": [
    "SelectionSort(veri)"
   ]
  },
  {
   "cell_type": "markdown",
   "id": "98de2c99-e5de-4757-b924-08a684a267d1",
   "metadata": {},
   "source": [
    "## Insertion Sort"
   ]
  },
  {
   "cell_type": "code",
   "execution_count": 47,
   "id": "532109a3-1390-4bfa-b0cb-fc28b8f66cc1",
   "metadata": {},
   "outputs": [],
   "source": [
    "def InsertionSort(arr):\n",
    "    for i in range(1, len(arr)):\n",
    "        value = arr[i]\n",
    "        j = i - 1\n",
    "        while j >= 0 and value < arr[j]:\n",
    "            arr[j + 1] = arr[j]\n",
    "            j -= 1\n",
    "            arr[j + 1] = value\n",
    "    return arr"
   ]
  },
  {
   "cell_type": "code",
   "execution_count": 49,
   "id": "1f9dc918-c3a9-42b0-91bf-9ffba23b90ef",
   "metadata": {},
   "outputs": [
    {
     "data": {
      "text/plain": [
       "[8, 12, 16, 23, 23, 26, 72, 74, 84, 97]"
      ]
     },
     "execution_count": 49,
     "metadata": {},
     "output_type": "execute_result"
    }
   ],
   "source": [
    "InsertionSort(veri)"
   ]
  },
  {
   "cell_type": "markdown",
   "id": "1711b34c-d0d1-49ea-bacb-40de48329a73",
   "metadata": {},
   "source": [
    "## Quick Sort"
   ]
  },
  {
   "cell_type": "code",
   "execution_count": 64,
   "id": "ae0872c0-bd5b-43cc-87ef-b03b7efccd0e",
   "metadata": {},
   "outputs": [],
   "source": [
    "def QuickSort(arr):\n",
    "    if len(arr) < 2:\n",
    "        return arr\n",
    "    else:\n",
    "        pivot = arr[0]\n",
    "        left = [x for x in arr[1:] if x < pivot]\n",
    "        right = [x for x in arr[1:] if x >= pivot]\n",
    "        return QuickSort(left) + [pivot] + QuickSort(right)"
   ]
  },
  {
   "cell_type": "code",
   "execution_count": 65,
   "id": "21e3adc2-4bd6-4b22-b11a-df13f4a3c33e",
   "metadata": {},
   "outputs": [
    {
     "data": {
      "text/plain": [
       "[1, 7, 18, 21, 30, 43, 50, 60, 62, 85]"
      ]
     },
     "execution_count": 65,
     "metadata": {},
     "output_type": "execute_result"
    }
   ],
   "source": [
    "QuickSort(veri)"
   ]
  },
  {
   "cell_type": "markdown",
   "id": "6d64ce11-695b-4445-90c1-cfff9e005ebc",
   "metadata": {},
   "source": [
    "## Counting Sort\n"
   ]
  },
  {
   "cell_type": "code",
   "execution_count": 28,
   "id": "aa1df86e-523f-4fe2-b211-ad9530d336fd",
   "metadata": {},
   "outputs": [],
   "source": [
    "def CountingSort(inputArray):\n",
    "    maxElement = max(inputArray)\n",
    "    countArrayLength = maxElement + 1\n",
    "    countArray = [0] * countArrayLength\n",
    "    for el in inputArray:\n",
    "        countArray[el] += 1\n",
    "    for i in range(1, countArrayLength):\n",
    "        countArray[i] += countArray[i - 1]\n",
    "    outputArray = [0] * len(inputArray)\n",
    "    i = len(inputArray) - 1\n",
    "    while i >= 0:\n",
    "        currentEl = inputArray[i]\n",
    "        countArray[currentEl] -= 1\n",
    "        newPosition = countArray[currentEl]\n",
    "        outputArray[newPosition] = currentEl\n",
    "        i -= 1\n",
    "    return outputArray"
   ]
  },
  {
   "cell_type": "code",
   "execution_count": 29,
   "id": "0f2e5699-9d7c-4b6a-8053-12a254057c16",
   "metadata": {},
   "outputs": [
    {
     "data": {
      "text/plain": [
       "[7, 11, 17, 20, 45, 51, 52, 53, 87, 96]"
      ]
     },
     "execution_count": 29,
     "metadata": {},
     "output_type": "execute_result"
    }
   ],
   "source": [
    "countingSort(veri)"
   ]
  },
  {
   "cell_type": "markdown",
   "id": "f451a963-5b7e-4948-bd94-495ff26844c5",
   "metadata": {},
   "source": [
    "## Radix Sort"
   ]
  },
  {
   "cell_type": "code",
   "execution_count": 36,
   "id": "e2c60b5a-f331-4540-b5f0-a77b05b4ef89",
   "metadata": {},
   "outputs": [],
   "source": [
    "def countingSortForRadix(inputArray, placeValue):\n",
    "    countArray = [0] * 10\n",
    "    inputSize = len(inputArray)\n",
    "    for i in range(inputSize):\n",
    "        placeElement = (inputArray[i] // placeValue) % 10\n",
    "        countArray[placeElement] += 1\n",
    "    for i in range(1, 10):\n",
    "        countArray[i] += countArray[i - 1]\n",
    "    outputArray = [0] * inputSize\n",
    "    i = inputSize - 1\n",
    "    while i >= 0:\n",
    "        currentEl = inputArray[i]\n",
    "        placeElement = (inputArray[i] // placeValue) % 10\n",
    "        countArray[placeElement] -= 1\n",
    "        newPosition = countArray[placeElement]\n",
    "        outputArray[newPosition] = currentEl\n",
    "        i -= 1\n",
    "    return outputArray\n",
    "\n",
    "\n",
    "def RadixSort(inputArray):\n",
    "    maxEl = max(inputArray)\n",
    "    D = 1\n",
    "    while maxEl > 0:\n",
    "        maxEl /= 10\n",
    "        D += 1\n",
    "    placeVal = 1\n",
    "    outputArray = inputArray\n",
    "    while D > 0:\n",
    "        outputArray = countingSortForRadix(outputArray, placeVal)\n",
    "        placeVal *= 10\n",
    "        D -= 1\n",
    "    return outputArray"
   ]
  },
  {
   "cell_type": "code",
   "execution_count": 37,
   "id": "1b6cc33c-fc71-42a7-b8eb-d15d71f37d04",
   "metadata": {},
   "outputs": [
    {
     "data": {
      "text/plain": [
       "[11, 13, 37, 40, 46, 63, 68, 69, 77, 93]"
      ]
     },
     "execution_count": 37,
     "metadata": {},
     "output_type": "execute_result"
    }
   ],
   "source": [
    "radixSort(veri)"
   ]
  }
 ],
 "metadata": {
  "kernelspec": {
   "display_name": "Python 3 (ipykernel)",
   "language": "python",
   "name": "python3"
  },
  "language_info": {
   "codemirror_mode": {
    "name": "ipython",
    "version": 3
   },
   "file_extension": ".py",
   "mimetype": "text/x-python",
   "name": "python",
   "nbconvert_exporter": "python",
   "pygments_lexer": "ipython3",
   "version": "3.11.4"
  }
 },
 "nbformat": 4,
 "nbformat_minor": 5
}
